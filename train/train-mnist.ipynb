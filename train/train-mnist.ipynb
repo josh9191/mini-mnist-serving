{
 "cells": [
  {
   "cell_type": "code",
   "execution_count": 1,
   "metadata": {
    "scrolled": true
   },
   "outputs": [
    {
     "name": "stdout",
     "output_type": "stream",
     "text": [
      "Defaulting to user installation because normal site-packages is not writeable\n",
      "Requirement already satisfied: tensorflow==2.3.1 in /home/josh9191/.local/lib/python3.8/site-packages (2.3.1)\n",
      "Requirement already satisfied: wrapt>=1.11.1 in /home/josh9191/.local/lib/python3.8/site-packages (from tensorflow==2.3.1) (1.12.1)\n",
      "Requirement already satisfied: grpcio>=1.8.6 in /home/josh9191/.local/lib/python3.8/site-packages (from tensorflow==2.3.1) (1.33.2)\n",
      "Requirement already satisfied: absl-py>=0.7.0 in /home/josh9191/.local/lib/python3.8/site-packages (from tensorflow==2.3.1) (0.11.0)\n",
      "Requirement already satisfied: termcolor>=1.1.0 in /home/josh9191/.local/lib/python3.8/site-packages (from tensorflow==2.3.1) (1.1.0)\n",
      "Requirement already satisfied: opt-einsum>=2.3.2 in /home/josh9191/.local/lib/python3.8/site-packages (from tensorflow==2.3.1) (3.3.0)\n",
      "Requirement already satisfied: h5py<2.11.0,>=2.10.0 in /home/josh9191/.local/lib/python3.8/site-packages (from tensorflow==2.3.1) (2.10.0)\n",
      "Requirement already satisfied: tensorboard<3,>=2.3.0 in /home/josh9191/.local/lib/python3.8/site-packages (from tensorflow==2.3.1) (2.4.0)\n",
      "Requirement already satisfied: numpy<1.19.0,>=1.16.0 in /home/josh9191/.local/lib/python3.8/site-packages (from tensorflow==2.3.1) (1.18.5)\n",
      "Requirement already satisfied: wheel>=0.26 in /usr/lib/python3/dist-packages (from tensorflow==2.3.1) (0.34.2)\n",
      "Requirement already satisfied: google-pasta>=0.1.8 in /home/josh9191/.local/lib/python3.8/site-packages (from tensorflow==2.3.1) (0.2.0)\n",
      "Requirement already satisfied: astunparse==1.6.3 in /home/josh9191/.local/lib/python3.8/site-packages (from tensorflow==2.3.1) (1.6.3)\n",
      "Requirement already satisfied: keras-preprocessing<1.2,>=1.1.1 in /home/josh9191/.local/lib/python3.8/site-packages (from tensorflow==2.3.1) (1.1.2)\n",
      "Requirement already satisfied: protobuf>=3.9.2 in /home/josh9191/.local/lib/python3.8/site-packages (from tensorflow==2.3.1) (3.14.0)\n",
      "Requirement already satisfied: six>=1.12.0 in /usr/lib/python3/dist-packages (from tensorflow==2.3.1) (1.14.0)\n",
      "Requirement already satisfied: gast==0.3.3 in /home/josh9191/.local/lib/python3.8/site-packages (from tensorflow==2.3.1) (0.3.3)\n",
      "Requirement already satisfied: tensorflow-estimator<2.4.0,>=2.3.0 in /home/josh9191/.local/lib/python3.8/site-packages (from tensorflow==2.3.1) (2.3.0)\n",
      "Requirement already satisfied: setuptools>=41.0.0 in /usr/lib/python3/dist-packages (from tensorboard<3,>=2.3.0->tensorflow==2.3.1) (45.2.0)\n",
      "Requirement already satisfied: tensorboard-plugin-wit>=1.6.0 in /home/josh9191/.local/lib/python3.8/site-packages (from tensorboard<3,>=2.3.0->tensorflow==2.3.1) (1.7.0)\n",
      "Requirement already satisfied: requests<3,>=2.21.0 in /home/josh9191/.local/lib/python3.8/site-packages (from tensorboard<3,>=2.3.0->tensorflow==2.3.1) (2.25.0)\n",
      "Requirement already satisfied: google-auth<2,>=1.6.3 in /home/josh9191/.local/lib/python3.8/site-packages (from tensorboard<3,>=2.3.0->tensorflow==2.3.1) (1.23.0)\n",
      "Requirement already satisfied: markdown>=2.6.8 in /usr/lib/python3/dist-packages (from tensorboard<3,>=2.3.0->tensorflow==2.3.1) (3.1.1)\n",
      "Requirement already satisfied: google-auth-oauthlib<0.5,>=0.4.1 in /home/josh9191/.local/lib/python3.8/site-packages (from tensorboard<3,>=2.3.0->tensorflow==2.3.1) (0.4.2)\n",
      "Requirement already satisfied: werkzeug>=0.11.15 in /home/josh9191/.local/lib/python3.8/site-packages (from tensorboard<3,>=2.3.0->tensorflow==2.3.1) (1.0.1)\n",
      "Requirement already satisfied: urllib3<1.27,>=1.21.1 in /usr/lib/python3/dist-packages (from requests<3,>=2.21.0->tensorboard<3,>=2.3.0->tensorflow==2.3.1) (1.25.8)\n",
      "Requirement already satisfied: chardet<4,>=3.0.2 in /usr/lib/python3/dist-packages (from requests<3,>=2.21.0->tensorboard<3,>=2.3.0->tensorflow==2.3.1) (3.0.4)\n",
      "Requirement already satisfied: certifi>=2017.4.17 in /usr/lib/python3/dist-packages (from requests<3,>=2.21.0->tensorboard<3,>=2.3.0->tensorflow==2.3.1) (2019.11.28)\n",
      "Requirement already satisfied: idna<3,>=2.5 in /usr/lib/python3/dist-packages (from requests<3,>=2.21.0->tensorboard<3,>=2.3.0->tensorflow==2.3.1) (2.8)\n",
      "Requirement already satisfied: pyasn1-modules>=0.2.1 in /home/josh9191/.local/lib/python3.8/site-packages (from google-auth<2,>=1.6.3->tensorboard<3,>=2.3.0->tensorflow==2.3.1) (0.2.8)\n",
      "Requirement already satisfied: rsa<5,>=3.1.4; python_version >= \"3.5\" in /home/josh9191/.local/lib/python3.8/site-packages (from google-auth<2,>=1.6.3->tensorboard<3,>=2.3.0->tensorflow==2.3.1) (4.6)\n",
      "Requirement already satisfied: cachetools<5.0,>=2.0.0 in /home/josh9191/.local/lib/python3.8/site-packages (from google-auth<2,>=1.6.3->tensorboard<3,>=2.3.0->tensorflow==2.3.1) (4.1.1)\n",
      "Requirement already satisfied: requests-oauthlib>=0.7.0 in /home/josh9191/.local/lib/python3.8/site-packages (from google-auth-oauthlib<0.5,>=0.4.1->tensorboard<3,>=2.3.0->tensorflow==2.3.1) (1.3.0)\n",
      "Requirement already satisfied: pyasn1<0.5.0,>=0.4.6 in /home/josh9191/.local/lib/python3.8/site-packages (from pyasn1-modules>=0.2.1->google-auth<2,>=1.6.3->tensorboard<3,>=2.3.0->tensorflow==2.3.1) (0.4.8)\n",
      "Requirement already satisfied: oauthlib>=3.0.0 in /usr/lib/python3/dist-packages (from requests-oauthlib>=0.7.0->google-auth-oauthlib<0.5,>=0.4.1->tensorboard<3,>=2.3.0->tensorflow==2.3.1) (3.1.0)\n",
      "Defaulting to user installation because normal site-packages is not writeable\n",
      "Requirement already satisfied: matplotlib==3.3.3 in /home/josh9191/.local/lib/python3.8/site-packages (3.3.3)\n",
      "Requirement already satisfied: pyparsing!=2.0.4,!=2.1.2,!=2.1.6,>=2.0.3 in /usr/lib/python3/dist-packages (from matplotlib==3.3.3) (2.4.6)\n",
      "Requirement already satisfied: kiwisolver>=1.0.1 in /home/josh9191/.local/lib/python3.8/site-packages (from matplotlib==3.3.3) (1.3.1)\n",
      "Requirement already satisfied: python-dateutil>=2.1 in /home/josh9191/.local/lib/python3.8/site-packages (from matplotlib==3.3.3) (2.8.1)\n",
      "Requirement already satisfied: cycler>=0.10 in /home/josh9191/.local/lib/python3.8/site-packages (from matplotlib==3.3.3) (0.10.0)\n",
      "Requirement already satisfied: pillow>=6.2.0 in /usr/lib/python3/dist-packages (from matplotlib==3.3.3) (7.0.0)\n",
      "Requirement already satisfied: numpy>=1.15 in /home/josh9191/.local/lib/python3.8/site-packages (from matplotlib==3.3.3) (1.18.5)\n",
      "Requirement already satisfied: six>=1.5 in /usr/lib/python3/dist-packages (from python-dateutil>=2.1->matplotlib==3.3.3) (1.14.0)\n"
     ]
    }
   ],
   "source": [
    "# download dependencies\n",
    "# numpy will be downloaded as a dependency\n",
    "!pip install tensorflow==2.3.1\n",
    "!pip install matplotlib==3.3.3"
   ]
  },
  {
   "cell_type": "code",
   "execution_count": 2,
   "metadata": {},
   "outputs": [],
   "source": [
    "import matplotlib.pyplot as plt\n",
    "import numpy as np\n",
    "\n",
    "from tensorflow import keras\n",
    "from tensorflow.keras import layers\n",
    "from tensorflow.keras.callbacks import EarlyStopping"
   ]
  },
  {
   "cell_type": "code",
   "execution_count": 3,
   "metadata": {},
   "outputs": [
    {
     "name": "stdout",
     "output_type": "stream",
     "text": [
      "Training set shape: (60000, 28, 28, 1), (60000,)\n",
      "Test set shape: (10000, 28, 28, 1), (10000,)\n"
     ]
    }
   ],
   "source": [
    "# load data\n",
    "(x_train, y_train), (x_test, y_test) = keras.datasets.mnist.load_data()\n",
    "# we use validation split when fitting so validation set doesn't exist\n",
    "\n",
    "# each single row shape should be (28, 28, 1)\n",
    "x_train = np.expand_dims(x_train, -1)\n",
    "x_test = np.expand_dims(x_test, -1)\n",
    "\n",
    "print(f\"Training set shape: {x_train.shape}, {y_train.shape}\")\n",
    "print(f\"Test set shape: {x_test.shape}, {y_test.shape}\")"
   ]
  },
  {
   "cell_type": "code",
   "execution_count": 4,
   "metadata": {},
   "outputs": [],
   "source": [
    "# normalize input data\n",
    "x_train = x_train.astype(np.float32) / 255.0\n",
    "x_test = x_test.astype(np.float32) / 255.0"
   ]
  },
  {
   "cell_type": "code",
   "execution_count": 5,
   "metadata": {},
   "outputs": [
    {
     "data": {
      "text/plain": [
       "((60000, 10), (10000, 10))"
      ]
     },
     "execution_count": 5,
     "metadata": {},
     "output_type": "execute_result"
    }
   ],
   "source": [
    "# one-hot encoding target\n",
    "NUM_CLASSES = 10\n",
    "y_train = keras.utils.to_categorical(y_train, NUM_CLASSES)\n",
    "y_test = keras.utils.to_categorical(y_test, NUM_CLASSES)\n",
    "y_train.shape, y_test.shape"
   ]
  },
  {
   "cell_type": "code",
   "execution_count": 6,
   "metadata": {
    "scrolled": true
   },
   "outputs": [
    {
     "name": "stdout",
     "output_type": "stream",
     "text": [
      "Epoch 1/30\n",
      "375/375 [==============================] - 101s 269ms/step - loss: 0.6346 - accuracy: 0.7959 - val_loss: 0.1177 - val_accuracy: 0.9649\n",
      "Epoch 2/30\n",
      "375/375 [==============================] - 88s 236ms/step - loss: 0.3135 - accuracy: 0.8915 - val_loss: 0.0651 - val_accuracy: 0.9819\n",
      "Epoch 3/30\n",
      "375/375 [==============================] - 79s 211ms/step - loss: 0.2485 - accuracy: 0.9101 - val_loss: 0.0535 - val_accuracy: 0.9850\n",
      "Epoch 4/30\n",
      "375/375 [==============================] - 79s 211ms/step - loss: 0.2201 - accuracy: 0.9187 - val_loss: 0.0487 - val_accuracy: 0.9857\n",
      "Epoch 5/30\n",
      "375/375 [==============================] - 79s 211ms/step - loss: 0.1999 - accuracy: 0.9260 - val_loss: 0.0447 - val_accuracy: 0.9870\n",
      "Epoch 6/30\n",
      "375/375 [==============================] - 76s 203ms/step - loss: 0.1836 - accuracy: 0.9300 - val_loss: 0.0425 - val_accuracy: 0.9883\n",
      "Epoch 7/30\n",
      "375/375 [==============================] - 74s 198ms/step - loss: 0.1738 - accuracy: 0.9346 - val_loss: 0.0410 - val_accuracy: 0.9894\n",
      "Epoch 8/30\n",
      "375/375 [==============================] - 74s 198ms/step - loss: 0.1609 - accuracy: 0.9384 - val_loss: 0.0427 - val_accuracy: 0.9885\n",
      "Epoch 9/30\n",
      "375/375 [==============================] - 74s 198ms/step - loss: 0.1556 - accuracy: 0.9401 - val_loss: 0.0478 - val_accuracy: 0.9884\n",
      "Epoch 10/30\n",
      "375/375 [==============================] - 74s 198ms/step - loss: 0.1467 - accuracy: 0.9437 - val_loss: 0.0423 - val_accuracy: 0.9895\n",
      "Epoch 11/30\n",
      "375/375 [==============================] - 74s 198ms/step - loss: 0.1341 - accuracy: 0.9493 - val_loss: 0.0440 - val_accuracy: 0.9898\n",
      "Epoch 12/30\n",
      "375/375 [==============================] - 74s 198ms/step - loss: 0.1196 - accuracy: 0.9557 - val_loss: 0.0392 - val_accuracy: 0.9905\n",
      "Epoch 13/30\n",
      "375/375 [==============================] - 91s 243ms/step - loss: 0.1074 - accuracy: 0.9593 - val_loss: 0.0411 - val_accuracy: 0.9907\n",
      "Epoch 14/30\n",
      "375/375 [==============================] - 83s 220ms/step - loss: 0.1003 - accuracy: 0.9631 - val_loss: 0.0419 - val_accuracy: 0.9896\n",
      "Epoch 15/30\n",
      "375/375 [==============================] - 74s 198ms/step - loss: 0.0982 - accuracy: 0.9633 - val_loss: 0.0439 - val_accuracy: 0.9903\n",
      "Epoch 16/30\n",
      "375/375 [==============================] - 74s 198ms/step - loss: 0.0961 - accuracy: 0.9647 - val_loss: 0.0429 - val_accuracy: 0.9911\n",
      "Epoch 17/30\n",
      "375/375 [==============================] - 74s 197ms/step - loss: 0.0907 - accuracy: 0.9661 - val_loss: 0.0499 - val_accuracy: 0.9904\n"
     ]
    }
   ],
   "source": [
    "INPUT_SHAPE = x_train.shape[1:]\n",
    "VALIDATION_SPLIT = 0.2\n",
    "BATCH_SIZE = 128\n",
    "EPOCHS = 30\n",
    "\n",
    "# build model\n",
    "model = keras.Sequential([\n",
    "        keras.Input(shape=INPUT_SHAPE),\n",
    "        layers.Conv2D(96, kernel_size=(3, 3), kernel_initializer='he_normal'),\n",
    "        layers.BatchNormalization(),\n",
    "        layers.Activation('relu'),\n",
    "        layers.MaxPooling2D(pool_size=(2, 2)),\n",
    "        layers.Conv2D(128, kernel_size=(3, 3), kernel_initializer='he_normal'),\n",
    "        layers.BatchNormalization(),\n",
    "        layers.Activation('relu'),\n",
    "        layers.MaxPooling2D(pool_size=(2, 2)),\n",
    "        layers.Flatten(),\n",
    "        layers.Dense(128, activation=\"relu\", kernel_initializer='he_normal'),\n",
    "        layers.Dropout(0.5),\n",
    "        layers.Dense(NUM_CLASSES, activation=\"softmax\")])\n",
    "\n",
    "model.compile(loss=keras.losses.categorical_crossentropy,\n",
    "              optimizer=keras.optimizers.Adam(learning_rate=0.003),\n",
    "              metrics=[\"accuracy\"])\n",
    "# EarlyStopping using validation split\n",
    "history = model.fit(x_train, y_train,\n",
    "          batch_size=BATCH_SIZE, epochs=EPOCHS,\n",
    "          validation_split=VALIDATION_SPLIT,\n",
    "          callbacks=EarlyStopping(monitor='val_loss', patience=5))"
   ]
  },
  {
   "cell_type": "code",
   "execution_count": 7,
   "metadata": {},
   "outputs": [
    {
     "name": "stdout",
     "output_type": "stream",
     "text": [
      "Test Set - Loss: 0.036314, Accuracy: 99.11%\n"
     ]
    }
   ],
   "source": [
    "test_loss, test_acc = model.evaluate(x_test, y_test, verbose=0)\n",
    "print(f\"Test Set - Loss: {test_loss:.6f}, Accuracy: {test_acc * 100:.2f}%\")"
   ]
  },
  {
   "cell_type": "code",
   "execution_count": 8,
   "metadata": {
    "scrolled": true
   },
   "outputs": [
    {
     "data": {
      "text/plain": [
       "<matplotlib.legend.Legend at 0x7f736f4dd460>"
      ]
     },
     "execution_count": 8,
     "metadata": {},
     "output_type": "execute_result"
    },
    {
     "data": {
      "image/png": "[encoded data removed]",
      "text/plain": [
       "<Figure size 936x288 with 2 Axes>"
      ]
     },
     "metadata": {
      "needs_background": "light"
     },
     "output_type": "display_data"
    }
   ],
   "source": [
    "fig, (ax1, ax2) = plt.subplots(1, 2, figsize=(13,4))\n",
    "fig.suptitle('Result')\n",
    "\n",
    "# Accuracy history\n",
    "ax1.plot(history.history['accuracy'])\n",
    "ax1.plot(history.history['val_accuracy'])\n",
    "ax1.set_title('Accuracy')\n",
    "ax1.set_ylabel('accuracy')\n",
    "ax1.set_xlabel('epoch')\n",
    "ax1.legend(['train', 'val'], loc='upper left')\n",
    "\n",
    "# Loss history\n",
    "ax2.plot(history.history['loss'])\n",
    "ax2.plot(history.history['val_loss'])\n",
    "ax2.set_title('Loss')\n",
    "ax2.set_ylabel('loss')\n",
    "ax2.set_xlabel('epoch')\n",
    "ax2.legend(['train', 'val'], loc='upper left')"
   ]
  },
  {
   "cell_type": "code",
   "execution_count": 9,
   "metadata": {},
   "outputs": [
    {
     "name": "stdout",
     "output_type": "stream",
     "text": [
      "WARNING:tensorflow:From /home/josh9191/.local/lib/python3.8/site-packages/tensorflow/python/training/tracking/tracking.py:111: Model.state_updates (from tensorflow.python.keras.engine.training) is deprecated and will be removed in a future version.\n",
      "Instructions for updating:\n",
      "This property should not be used in TensorFlow 2.0, as updates are applied automatically.\n",
      "WARNING:tensorflow:From /home/josh9191/.local/lib/python3.8/site-packages/tensorflow/python/training/tracking/tracking.py:111: Layer.updates (from tensorflow.python.keras.engine.base_layer) is deprecated and will be removed in a future version.\n",
      "Instructions for updating:\n",
      "This property should not be used in TensorFlow 2.0, as updates are applied automatically.\n",
      "INFO:tensorflow:Assets written to: model/assets\n"
     ]
    }
   ],
   "source": [
    "# save model to \"model\" directory\n",
    "model.save(\"model\")"
   ]
  },
  {
   "cell_type": "code",
   "execution_count": null,
   "metadata": {},
   "outputs": [],
   "source": []
  }
 ],
 "metadata": {
  "kernelspec": {
   "display_name": "Python 3.8.5 64-bit",
   "language": "python",
   "name": "python38564bitf042a307a77943fbb887c009af72f680"
  },
  "language_info": {
   "codemirror_mode": {
    "name": "ipython",
    "version": 3
   },
   "file_extension": ".py",
   "mimetype": "text/x-python",
   "name": "python",
   "nbconvert_exporter": "python",
   "pygments_lexer": "ipython3",
   "version": "3.8.5"
  }
 },
 "nbformat": 4,
 "nbformat_minor": 4
}
